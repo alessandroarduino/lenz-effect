{
 "cells": [
  {
   "cell_type": "markdown",
   "id": "91c02f30-d267-4b8d-b0ae-2baccbb45fbd",
   "metadata": {},
   "source": [
    "# Lenz effect on plates in the magnet room\n",
    "\n",
    "A nonferromagnetic conductive object in motion within a static magnetic\n",
    "field experiences the **Lenz effect**, namely the development of forces\n",
    "opposing its motion. This happens because of the Lorentz forces due to\n",
    "the eddy currents induced by the very same motion of the object within\n",
    "the magnetic field. Given an external force determining the body motion,\n",
    "it is possible to include the Lorentz forces in a dynamics model to\n",
    "predict the motion. This is done here for simple motions defined by a\n",
    "single degree of freedom (precisely, translation along a straight line\n",
    "and rotation around an axis).\n",
    "\n",
    "The functions defined in this notebook are collected in the file\n",
    "`lenz_effect.py` to be importable and usable in other contexts.\n",
    "\n",
    "## Import the packages\n",
    "\n",
    "Import all the packages used in this notebook."
   ]
  },
  {
   "cell_type": "code",
   "execution_count": null,
   "id": "20ab99ec-60e4-453f-8c4f-41a6c251f0ab",
   "metadata": {
    "tangle": "lenz_effect.py"
   },
   "outputs": [],
   "source": [
    "import matplotlib.pyplot as plt\n",
    "import numpy as np\n",
    "import os\n",
    "import scipy.integrate\n",
    "import seaborn as sns\n"
   ]
  },
  {
   "cell_type": "markdown",
   "id": "d908c8cb-a912-4668-ba19-fac1b308695e",
   "metadata": {},
   "source": [
    "## Define the function solving the dynamics equations\n",
    "\n",
    "Let's assume the motion has only one degree of freedom, $q$. It can be a\n",
    "linear displacement, in case of a translation, or an angle, in case of a\n",
    "rotation. In both cases, the dynamics is described by the ordinary\n",
    "differential equation\n",
    "$$I \\ddot{q} = F_{\\rm ext}(t, q) + f_{\\rm lenz}(q) \\dot{q}$$ where $I$\n",
    "is the inertial coefficient, $F_{\\rm ext}(t, q)$ is a known forcing\n",
    "term, and $f_{\\rm lenz}(q)$ is the force (or torque in case of a\n",
    "rotation) that the object would experience if moving with a unitary\n",
    "velocity in $q$."
   ]
  },
  {
   "cell_type": "code",
   "execution_count": null,
   "id": "b1c775c7-8be2-40d1-8bdf-28d25b7cbc39",
   "metadata": {
    "tangle": "lenz_effect.py"
   },
   "outputs": [],
   "source": [
    "def ComputeDynamics(Fext, flenz, t_max, dt, q0, q_min, q_max):\n",
    "    '''Solve the dynamics in a given time interval and spatial domain.\n",
    "\n",
    "    Parameters\n",
    "    ----------\n",
    "    Fext : callable ``Fext(t, q)``\n",
    "        Forcing term representing the external forces acting on the body\n",
    "        divided by the body inertia. Both `t` and `q` are scalars. `Fext`\n",
    "        should return a scalar.\n",
    "    flenz : callable ``flenz(q)``\n",
    "        Function representing the unitary Lenz effect divided by the body\n",
    "        inertia. `q` is a scalar. `flenz` should return a scalar.\n",
    "    t_max : float\n",
    "        Endpoint of the integration time interval.\n",
    "    dt : float\n",
    "        Time steps at which the output is stored.\n",
    "    q0 : float\n",
    "        Initial condition of `q`. The initial condition of its derivative is\n",
    "        always zero.\n",
    "    q_min : float\n",
    "        Minimum value that `q` can assume. The computation is interrupted if\n",
    "        a lower value is reached.\n",
    "    q_max : float\n",
    "        Maximum value that `q` can assume. The computation is interrupted if\n",
    "        a larger value is reached.\n",
    "\n",
    "    Returns\n",
    "    -------\n",
    "    tt : ndarray\n",
    "        Time points where the solution is stored. ``tt.shape == (n,)``, being\n",
    "        `n` the number of stored time points.\n",
    "    qq : ndarray\n",
    "        Solution values in each time point. ``qq.shape == (n,2)``, the first\n",
    "        column contains the actual solution, the second column its derivative.\n",
    "    '''\n",
    "    n_max = int(t_max/dt) + 2\n",
    "    tt = np.zeros((n_max,))\n",
    "    qq = np.zeros((n_max,2))\n",
    "\n",
    "    f = lambda t,q: [q[1], Fext(t,q[0]) + flenz(q[0])*q[1]]\n",
    "\n",
    "    ode = scipy.integrate.ode(f)\n",
    "    ode.set_integrator('vode', method='adams')\n",
    "    ode.set_initial_value([q0,0.0], 0)\n",
    "\n",
    "    n = 0\n",
    "    tt[n] = ode.t\n",
    "    qq[n,:] = ode.y\n",
    "    while ode.successful() and ode.t<t_max and ode.y[0]>q_min and ode.y[0]<q_max:\n",
    "        ode.integrate(ode.t + dt)\n",
    "        n += 1\n",
    "        tt[n] = ode.t\n",
    "        qq[n,:] = ode.y\n",
    "    tt = tt[:n+1]\n",
    "    qq = qq[:n+1,:]\n",
    "\n",
    "    return tt, qq\n"
   ]
  },
  {
   "cell_type": "markdown",
   "id": "14963efb-0348-414c-98af-d0f161d0cb1f",
   "metadata": {},
   "source": [
    "## Analytical solution for a circular plate rotating inside the bore\n",
    "\n",
    "In the case of a circular plate rotating inside the bore, where the\n",
    "magnetic field is spatially uniform, the Lenz effect can be computed\n",
    "analytically. Let's consider the static field oriented horizontally\n",
    "along the $z$-axis. The $y$-axis is directed upward and the $x$-axis is\n",
    "such to fulfill the right-hand rule. Assuming that the plate starts\n",
    "perpendicular to the magnetic field and rotates around the $x$-axis, if\n",
    "the plate has radius $R$, thickness $d$, and electric conductivity\n",
    "$\\sigma$, then\n",
    "$$f_{\\rm lenz}(\\theta) = -d \\frac{\\sigma B_0^2 R^4 \\pi}{8} \\sin(\\theta)^2$$\n",
    "being $\\theta$ the angle between the $y$-axis and the plate (the degree\n",
    "of freedom), and $B_0$ the magnetic field intensity."
   ]
  },
  {
   "cell_type": "code",
   "execution_count": null,
   "id": "2aba0618-64ef-4bfa-a3ca-2cfe9ba25db1",
   "metadata": {},
   "outputs": [],
   "source": [
    "B0 = 1.5 # [T]\n",
    "R = 150.0e-3 # [m]\n",
    "d = 2.1e-3 # [m]\n",
    "\n",
    "# properties of aluminum\n",
    "sigma = 37.7e6 # [S/m]\n",
    "rho = 2700.0 # [kg/m3]\n",
    "\n",
    "# compute the inertia\n",
    "m = d*R*R*np.pi*rho\n",
    "inertia = 5/4*m*R*R\n",
    "\n",
    "# analytical expression of the lenz effect\n",
    "coeff = d*B0*B0*sigma*R*R*R*R*np.pi/8.0\n",
    "flenz = lambda theta: -coeff*np.sin(theta)**2/inertia\n",
    "\n",
    "# forcing term due to gravity\n",
    "g = 9.81 # [m/s2]\n",
    "Fext = lambda t,theta: m*g*R*np.sin(theta)/inertia\n",
    "# initial condition\n",
    "theta0 = np.deg2rad(3.0) # [rad]\n",
    "\n",
    "# time step and domain boundaries\n",
    "t_max = 360.0 # [s]\n",
    "dt = 0.01 # [s]\n",
    "theta_min = np.deg2rad(0.0) # [rad]\n",
    "theta_max = np.deg2rad(90.0) # [rad]\n",
    "\n",
    "# compute the dynamics with and without the magnetic field\n",
    "tt_w,ttheta_w = ComputeDynamics(Fext, flenz, t_max, dt, theta0, theta_min,\n",
    "                                theta_max)\n",
    "tt_wo,ttheta_wo = ComputeDynamics(Fext, lambda y: 0, t_max, dt, theta0,\n",
    "                                  theta_min, theta_max)\n"
   ]
  },
  {
   "cell_type": "markdown",
   "id": "6f447bc2-ca43-430a-814a-71da35f242a5",
   "metadata": {},
   "source": [
    "### Define the functions to plot and store the results\n",
    "\n",
    "Define a plotting function for this and future results."
   ]
  },
  {
   "cell_type": "code",
   "execution_count": null,
   "id": "464cee85-4589-480f-975b-b304679b21d5",
   "metadata": {
    "tangle": "lenz_effect.py"
   },
   "outputs": [],
   "source": [
    "def PlotResults(tt_w,qq_w, tt_wo,qq_wo, Fext, flenz, is_angle = False):\n",
    "    '''Plot the dynamics results.\n",
    "\n",
    "    Parameters\n",
    "    ----------\n",
    "    tt_w, tt_wo : ndarray\n",
    "        Time points where the solutions with (w) or without (wo) magnetic field\n",
    "        are stored. ``tt_w.shape == (n_w,)`` and ``tt_wo.shape == (n_wo,)``.\n",
    "    qq_w, qq_wo : ndarray\n",
    "        Solution values in each time point with (w) or without (wo) the magnetic\n",
    "        field. ``qq_w.shape == (n_w,2)`` and ``qq_wo.shape == (n_wo,2)``.\n",
    "    Fext : callable ``Fext(t, q)``\n",
    "        Forcing term representing the external forces acting on the body. Both\n",
    "        `t` and `q` are scalars. `Fext` should return a scalar.\n",
    "    flenz : callable ``flenz(q)``\n",
    "        Function representing the unitary Lenz effect. `q` is a scalar. `flenz`\n",
    "        should return a scalar.\n",
    "    is_angle : bool, optional\n",
    "        It is ``True`` if the solution is an angle, in radians. By default it is\n",
    "        ``False``.\n",
    "    '''\n",
    "    identity = lambda x: x\n",
    "    transform = np.rad2deg if is_angle else identity\n",
    "\n",
    "    fig,axes = plt.subplots(3,1, figsize=(3.5,7), sharex=True)\n",
    "    colors = sns.color_palette(\"Set2\")\n",
    "\n",
    "    axes[0].semilogx(tt_w, transform(qq_w[:,0]), linewidth=2, color=colors[0])\n",
    "    axes[0].semilogx(tt_wo, transform(qq_wo[:,0]), linewidth=2, color=colors[1])\n",
    "    axes[0].set_ylabel(\"Angle (deg)\" if is_angle else \"Position (m)\")\n",
    "    axes[0].grid()\n",
    "    axes[0].legend((\"With magnet\", \"Without magnet\"))\n",
    "\n",
    "    axes[1].loglog(tt_w, transform(qq_w[:,1]), linewidth=2, color=colors[0])\n",
    "    axes[1].loglog(tt_wo, transform(qq_wo[:,1]), linewidth=2, color=colors[1])\n",
    "    axes[1].set_ylabel(\"Angular velocity (deg/s)\" if is_angle else \"Velocity (m/s)\")\n",
    "    axes[1].grid()\n",
    "\n",
    "    FFext = np.array([Fext(t,q) for t,q in zip(tt_w,qq_w[:,0])])\n",
    "    FFlenz = np.array([flenz(q[0])*q[1] for q in qq_w])\n",
    "    axes[2].semilogx(tt_w, FFext, linewidth=2, color=colors[2])\n",
    "    axes[2].semilogx(tt_w, -FFlenz, linewidth=2, color=colors[3])\n",
    "    axes[2].set_xlabel(\"Time (s)\")\n",
    "    axes[2].set_ylabel(\"Moment (Nm)\" if is_angle else \"Force (N)\")\n",
    "    axes[2].grid()\n",
    "    axes[2].legend((\"Forcing term\", \"Lenz effect\"))\n",
    "\n",
    "    return fig\n"
   ]
  },
  {
   "cell_type": "markdown",
   "id": "2f0cc843-6fc9-41c2-9269-ef7637bafc5b",
   "metadata": {},
   "source": [
    "Define a function to save the results in a table."
   ]
  },
  {
   "cell_type": "code",
   "execution_count": null,
   "id": "c6ee294a-9b6d-4dc2-b813-a155dc66f8bc",
   "metadata": {
    "tangle": "lenz_effect.py"
   },
   "outputs": [],
   "source": [
    "def SaveResults(filename, tt,qq, Fext,flenz, is_angle):\n",
    "    identity = lambda x: x\n",
    "    transform = np.rad2deg if is_angle else identity\n",
    "\n",
    "    with open(filename, \"w\") as ofile:\n",
    "        ofile.write(\"time,dof,velocity,ext_force,lenz_force\\n\")\n",
    "        for idx in range(len(tt)):\n",
    "            ofile.write(\"{:12e},{:.12e},{:.12e},{:.12e},{:.12e}\\n\".format(\n",
    "                tt[idx],transform(qq[idx,0]),transform(qq[idx,1]),\n",
    "                Fext(tt[idx],qq[idx,0]),-flenz(qq[idx,0])*qq[idx,1]))\n",
    "\n",
    "    return\n"
   ]
  },
  {
   "cell_type": "markdown",
   "id": "afb4b8e6-c5e8-403a-b630-75e6513e6ce1",
   "metadata": {},
   "source": [
    "### Plot and store the results for the rotating circular plate\n",
    "\n",
    "Plot the results."
   ]
  },
  {
   "cell_type": "code",
   "execution_count": null,
   "id": "ea5a554e-896a-4e5d-affa-046ba83be452",
   "metadata": {},
   "outputs": [],
   "source": [
    "Fext_plot = lambda t,q: Fext(t,q)*inertia\n",
    "flenz_plot = lambda q: flenz(q)*inertia\n",
    "\n",
    "fig = PlotResults(tt_w,ttheta_w, tt_wo,ttheta_wo, Fext_plot, flenz_plot, True)\n",
    "\n",
    "fig.suptitle(\"Circular plate rotating\")\n",
    "fig.tight_layout()\n"
   ]
  },
  {
   "cell_type": "markdown",
   "id": "f1ca9651-0824-48ec-a967-7f86eb15cbfd",
   "metadata": {},
   "source": [
    "Save the results in tables."
   ]
  },
  {
   "cell_type": "code",
   "execution_count": null,
   "id": "16bfa91b-43cb-49f9-87d4-dbbf2a4a7116",
   "metadata": {},
   "outputs": [],
   "source": [
    "filename = os.path.join(\"results\",\"rotation-circular-w.csv\")\n",
    "SaveResults(filename, tt_w,ttheta_w, Fext_plot,flenz_plot, True)\n",
    "\n",
    "filename = os.path.join(\"results\",\"rotation-circular-wo.csv\")\n",
    "SaveResults(filename, tt_wo,ttheta_wo, Fext_plot,flenz_plot, True)\n"
   ]
  },
  {
   "cell_type": "markdown",
   "id": "a80c570d-8cf8-4019-809e-982a2cc14d37",
   "metadata": {},
   "source": [
    "## Numerical solutions for a squared plate\n",
    "\n",
    "In order to predict the motion of a squared plate in a static magnetic\n",
    "field with a realistic spatial distribution, numerical simulations come\n",
    "in handy to compute $f_{\\rm lenz}(q)$. Precisely, the interval of\n",
    "admissible values of the degree of freedom is discretized in small\n",
    "subintervals. The forces and the torques due to the Lenz effect when\n",
    "motion takes place with a unitary velocity are computed in each\n",
    "subinterval assuming that the variation of flux density is constant\n",
    "within each subinterval. The computed forces and torques are assigned to\n",
    "the center points of the subintervals and the forces and torques\n",
    "elsewhere are approximated by linear interpolation.\n",
    "\n",
    "In our case, the results of the numerical simulations have been\n",
    "collected in text files with data structured in four columns. The first\n",
    "column contains the values of the degree of freedom where the forces\n",
    "have been evaluated; the remaining columns contain the three components\n",
    "of the relevant force or torque applied to the plate.\n",
    "\n",
    "Let's define a function to define $f_{\\rm lenz}(q)$ loading the useful\n",
    "data from such a structured file."
   ]
  },
  {
   "cell_type": "code",
   "execution_count": null,
   "id": "ee71204c-c3f1-44b3-bbaa-a20b560288da",
   "metadata": {
    "tangle": "lenz_effect.py"
   },
   "outputs": [],
   "source": [
    "def ReadLenzEffectFromFile(address, col=1):\n",
    "    '''Read the Lenz effect with unitary velocity from a text file.\n",
    "\n",
    "    Parameters\n",
    "    -----------\n",
    "    address : string\n",
    "        Address of the file to read.\n",
    "    col : int, optional\n",
    "        Index of the column containing the relevant component of the force\n",
    "        (or torque). By default it is 1.\n",
    "\n",
    "    Notes\n",
    "    -----\n",
    "    The text file is structured in four columns. The first column contains\n",
    "    the values of the degree of freedom where the forces (or torques) are\n",
    "    evaluated. The remaining columns contain the components of the relevant\n",
    "    force or torque.\n",
    "    '''\n",
    "    data = np.genfromtxt(address)\n",
    "    xp = data[:,0]\n",
    "    fp = data[:,col]\n",
    "    flenz = lambda x: np.interp(x, xp, fp)\n",
    "    return flenz\n"
   ]
  },
  {
   "cell_type": "markdown",
   "id": "521ef09a-e9bc-47fc-8c4f-f3ff8e3e0462",
   "metadata": {},
   "source": [
    "In the following, we will consider a squared plate made of aluminum\n",
    "(6061T6), with sides of 295 mm (along $y$) and 295 mm (along $x$), and\n",
    "thickness of 2.1 mm."
   ]
  },
  {
   "cell_type": "code",
   "execution_count": null,
   "id": "0172eb69-914d-4504-a9fc-55e4147c2be2",
   "metadata": {},
   "outputs": [],
   "source": [
    "# geometrical properties\n",
    "d = 2.1e-3 # [m]\n",
    "lx = 295e-3 # [m]\n",
    "ly = 295e-3 # [m]\n",
    "\n",
    "# physical properties\n",
    "rho = 2700 # [kg/m3]\n"
   ]
  },
  {
   "cell_type": "markdown",
   "id": "07b2f763-7744-41f8-b13d-b589cdca9d66",
   "metadata": {},
   "source": [
    "### Squared plate rotating inside the bore\n",
    "\n",
    "Let's run the dynamics solver with the proper inertia and forcing term\n",
    "for a plate that is rotating around its edge under the effect of\n",
    "gravity. The plate is assumed parallel to the $x$-axis and the initial\n",
    "condition is a small angle with respect to the vertical $y$-axis of 3°."
   ]
  },
  {
   "cell_type": "code",
   "execution_count": null,
   "id": "e1e2ebc9-025e-4031-81ea-2692f778ca8d",
   "metadata": {},
   "outputs": [],
   "source": [
    "# compute the inertia\n",
    "m = d*lx*ly*rho\n",
    "inertia = 1/3*m*ly*ly\n",
    "\n",
    "# read the lenz effect from file\n",
    "filename = os.path.join(\"em_simulations\",\"plate_rotating.dat\")\n",
    "flenz_plot = ReadLenzEffectFromFile(filename, col=1)\n",
    "flenz = lambda theta: flenz_plot(theta)/inertia\n",
    "\n",
    "# forcing term due to gravity\n",
    "g = 9.81 # [m/s2]\n",
    "Fext = lambda t,theta: m*g*ly/2*np.sin(theta)/inertia\n",
    "\n",
    "# initial condition\n",
    "theta0 = np.deg2rad(3.0) # [rad]\n",
    "\n",
    "# time step and domain boundaries\n",
    "t_max = 360.0 # [s]\n",
    "dt = 0.01 # [s]\n",
    "theta_min = np.deg2rad(0.0) # [rad]\n",
    "theta_max = np.deg2rad(90.0) # [rad]\n",
    "\n",
    "# compute the dynamics with and without the magnetic field\n",
    "tt_w,ttheta_w = ComputeDynamics(Fext, flenz, t_max, dt, theta0, theta_min,\n",
    "                                theta_max)\n",
    "tt_wo,ttheta_wo = ComputeDynamics(Fext, lambda y: 0, t_max, dt, theta0,\n",
    "                                  theta_min, theta_max)\n"
   ]
  },
  {
   "cell_type": "markdown",
   "id": "f46683e0-41bd-47a2-bed4-b0fe1793fa00",
   "metadata": {},
   "source": [
    "Plot the results."
   ]
  },
  {
   "cell_type": "code",
   "execution_count": null,
   "id": "02a32428-3a56-4dac-940b-34825b121fdb",
   "metadata": {},
   "outputs": [],
   "source": [
    "# plot the result\n",
    "Fext_plot = lambda t,q: Fext(t,q)*inertia\n",
    "fig = PlotResults(tt_w,ttheta_w, tt_wo,ttheta_wo, Fext_plot, flenz_plot, True)\n",
    "fig.suptitle(\"Squared plate rotating\")\n",
    "fig.tight_layout()\n"
   ]
  },
  {
   "cell_type": "markdown",
   "id": "149f163b-3eab-4dec-9cf9-1c7acb809e20",
   "metadata": {},
   "source": [
    "Save the results in tables."
   ]
  },
  {
   "cell_type": "code",
   "execution_count": null,
   "id": "0a17b3eb-f3cd-4f3e-b9ae-84d222752798",
   "metadata": {},
   "outputs": [],
   "source": [
    "filename = os.path.join(\"results\",\"rotation-squared-w.csv\")\n",
    "SaveResults(filename, tt_w,ttheta_w, Fext_plot,flenz_plot, True)\n",
    "\n",
    "filename = os.path.join(\"results\",\"rotation-squared-wo.csv\")\n",
    "SaveResults(filename, tt_wo,ttheta_wo, Fext_plot,flenz_plot, True)\n"
   ]
  },
  {
   "cell_type": "markdown",
   "id": "4471a37f-967d-4211-8e44-1bef57da4793",
   "metadata": {},
   "source": [
    "### Comparison with experimental data\n",
    "\n",
    "For this case, we have experimental data that can be compared with the\n",
    "simulation results to validate the proposed mathematical and numerical\n",
    "model. The outcomes of the experimental observations are stored in CSV\n",
    "files generated by the script `track_plate_falling.py` (or the notebook\n",
    "`track_plate_falling.ipynb`) in the folder `experiment`."
   ]
  },
  {
   "cell_type": "code",
   "execution_count": null,
   "id": "9e899395-e931-47d6-8dff-65d3ffb51d11",
   "metadata": {},
   "outputs": [],
   "source": [
    "folder = \"experiment\"\n",
    "experiments = [f\"repetition {i}\" for i in range(1,6)]\n",
    "n_experiments = len(experiments)\n",
    "\n",
    "max_times = 46\n",
    "tt_exp = np.arange(0, max_times)\n",
    "ttheta_exps = np.nan * np.zeros((max_times, n_experiments))\n",
    "\n",
    "for i,experiment in enumerate(experiments):\n",
    "    address = os.path.join(folder, experiment, \"trajectory.csv\")\n",
    "    data = np.genfromtxt(address, delimiter=\",\")\n",
    "    n_times = data.shape[0]\n",
    "    ttheta_exps[:n_times, i] = data[:, 1]\n"
   ]
  },
  {
   "cell_type": "markdown",
   "id": "7e04a596-eb97-413c-b30e-02409ea1864e",
   "metadata": {},
   "source": [
    "We can plot the experimental data and the simulation results together to\n",
    "compare them."
   ]
  },
  {
   "cell_type": "code",
   "execution_count": null,
   "id": "dacc543d-e1d0-4dd9-9e24-bffc639fbda6",
   "metadata": {},
   "outputs": [],
   "source": [
    "#compute mean and standard deviation of experimental data\n",
    "mean_exp = np.mean(ttheta_exps, axis=1)\n",
    "std_exp = np.std(ttheta_exps, axis=1, ddof=1)\n",
    "\n",
    "#compute the expanded uncertainty with coverage factor 2\n",
    "unc_exp = 2 * std_exp\n",
    "\n",
    "plt.figure()\n",
    "\n",
    "#plot the experimental data\n",
    "plt.plot(tt_exp, ttheta_exps[:, :-1], linewidth=0.5, color=\"gray\")\n",
    "plt.plot(tt_exp, ttheta_exps[:, -1], linewidth=0.5, color=\"gray\",\n",
    "         label=\"Individual experiments\")\n",
    "plt.errorbar(tt_exp, mean_exp, unc_exp, linewidth=2.0, color=\"black\",\n",
    "         label=\"Experiment\", zorder=2)\n",
    "\n",
    "#plot the simulation result\n",
    "plt.plot(tt_w, np.rad2deg(ttheta_w[:, 0]), linewidth=2.0, color=\"red\",\n",
    "         label=\"Simulation\", zorder=3)\n",
    "\n",
    "plt.xlabel(\"Time (s)\")\n",
    "plt.ylabel(\"Angle (deg)\")\n",
    "plt.title(\"Comparison between experiment and simulation\")\n",
    "plt.legend()\n",
    "plt.grid()\n"
   ]
  },
  {
   "cell_type": "markdown",
   "id": "8ae2fe41-3adf-48bf-a6c5-7556006ea2b9",
   "metadata": {},
   "source": [
    "### Squared plate translating in the magnet room\n",
    "\n",
    "Let's run the dynamics solver for a plate translating in the magnet\n",
    "fringe field along the $z$-axis towards the scanner bore. The plate is\n",
    "assumed to be pushed with a constant force of 20 N.\n",
    "\n",
    "In the first considered case, the plate barycenter is in $x = y = 0$."
   ]
  },
  {
   "cell_type": "code",
   "execution_count": null,
   "id": "16dd4d08-820d-469b-ad66-bcd7c93360df",
   "metadata": {},
   "outputs": [],
   "source": [
    "# compute the inertia\n",
    "inertia = d*lx*ly*rho\n",
    "\n",
    "# read the lenz effect from file\n",
    "filename = os.path.join(\"em_simulations\",\"plate_translating_isocenter.dat\")\n",
    "flenz_plot = ReadLenzEffectFromFile(filename, col=3)\n",
    "flenz = lambda theta: flenz_plot(theta)/inertia\n",
    "\n",
    "# forcing term (constant force equivalent to 2 kg)\n",
    "g = 9.81 # [m/s2]\n",
    "Fext = lambda t,theta: 20.0/inertia\n",
    "\n",
    "# initial condition\n",
    "z0 = -1.7 # [m]\n",
    "\n",
    "# time step and domain boundaries\n",
    "t_max = 60.0 # [s]\n",
    "dt = 0.01 # [s]\n",
    "z_min = -1.71 # [m]\n",
    "z_max = -0.7 # [m]\n",
    "\n",
    "# compute the dynamics with and without the magnetic field\n",
    "tt_w,zz_w = ComputeDynamics(Fext, flenz, t_max, dt, z0, z_min, z_max)\n",
    "tt_wo,zz_wo = ComputeDynamics(Fext, lambda y: 0, t_max, dt, z0, z_min, z_max)\n"
   ]
  },
  {
   "cell_type": "markdown",
   "id": "749b2f1c-8709-4432-bd6d-4e37a6b94e87",
   "metadata": {},
   "source": [
    "Plot the results."
   ]
  },
  {
   "cell_type": "code",
   "execution_count": null,
   "id": "0e0d1920-47dd-4654-9188-9e3a5a738585",
   "metadata": {},
   "outputs": [],
   "source": [
    "# plot the result\n",
    "Fext_plot = lambda t,q: Fext(t,q)*inertia\n",
    "fig = PlotResults(tt_w,zz_w, tt_wo,zz_wo, Fext_plot, flenz_plot)\n",
    "fig.suptitle(\"Squared plate translating (y = 0)\")\n",
    "fig.tight_layout()\n"
   ]
  },
  {
   "cell_type": "markdown",
   "id": "571e92ab-9f3c-4595-ab5f-3a5c8f24ad12",
   "metadata": {},
   "source": [
    "Save the results in tables."
   ]
  },
  {
   "cell_type": "code",
   "execution_count": null,
   "id": "438c8f2b-f103-478e-9ed4-105708028d87",
   "metadata": {},
   "outputs": [],
   "source": [
    "filename = os.path.join(\"results\",\"translation-0-w.csv\")\n",
    "SaveResults(filename, tt_w,zz_w, Fext_plot,flenz_plot, False)\n",
    "\n",
    "filename = os.path.join(\"results\",\"translation-0-wo.csv\")\n",
    "SaveResults(filename, tt_wo,zz_wo, Fext_plot,flenz_plot, False)\n"
   ]
  },
  {
   "cell_type": "markdown",
   "id": "4465e405-c970-414e-bbe0-28bc1990bf86",
   "metadata": {},
   "source": [
    "In the second considered case, the plate barycenter in $x$ = 0 and $y$ =\n",
    "300 mm."
   ]
  },
  {
   "cell_type": "code",
   "execution_count": null,
   "id": "85c91eea-0e5e-4ca2-95a8-9f4fe5e0def8",
   "metadata": {},
   "outputs": [],
   "source": [
    "# read the lenz effect from file\n",
    "filename = os.path.join(\"em_simulations\",\"plate_translating_y300mm.dat\")\n",
    "flenz_plot = ReadLenzEffectFromFile(filename, col=3)\n",
    "flenz = lambda theta: flenz_plot(theta)/inertia\n",
    "\n",
    "# compute the dynamics with and without the magnetic field\n",
    "tt_w,zz_w = ComputeDynamics(Fext, flenz, t_max, dt, z0, z_min, z_max)\n",
    "tt_wo,zz_wo = ComputeDynamics(Fext, lambda y: 0, t_max, dt, z0, z_min, z_max)\n"
   ]
  },
  {
   "cell_type": "markdown",
   "id": "1102d3a0-d173-42a2-8688-b5d07709bcdd",
   "metadata": {},
   "source": [
    "Plot the results."
   ]
  },
  {
   "cell_type": "code",
   "execution_count": null,
   "id": "b217b1ce-4ef9-4876-96b6-8923f06019fa",
   "metadata": {},
   "outputs": [],
   "source": [
    "# plot the result\n",
    "Fext_plot = lambda t,q: Fext(t,q)*inertia\n",
    "fig = PlotResults(tt_w,zz_w, tt_wo,zz_wo, Fext_plot, flenz_plot)\n",
    "fig.suptitle(\"Squared plate translating (y = 300 mm)\")\n",
    "fig.tight_layout()\n",
    "plt.show()\n"
   ]
  },
  {
   "cell_type": "markdown",
   "id": "bc839214-f6fb-434c-9adb-610723ec8163",
   "metadata": {},
   "source": [
    "Save the results in tables."
   ]
  },
  {
   "cell_type": "code",
   "execution_count": null,
   "id": "52903675-6f5d-4419-a4ee-ca734eecf459",
   "metadata": {},
   "outputs": [],
   "source": [
    "filename = os.path.join(\"results\",\"translation-300-w.csv\")\n",
    "SaveResults(filename, tt_w,zz_w, Fext_plot,flenz_plot, False)\n",
    "\n",
    "filename = os.path.join(\"results\",\"translation-300-wo.csv\")\n",
    "SaveResults(filename, tt_wo,zz_wo, Fext_plot,flenz_plot, False)\n"
   ]
  }
 ],
 "metadata": {
  "kernelspec": {
   "display_name": "Python 3 (ipykernel)",
   "language": "python",
   "name": "python3"
  },
  "language_info": {
   "codemirror_mode": {
    "name": "ipython",
    "version": 3
   },
   "file_extension": ".py",
   "mimetype": "text/x-python",
   "name": "python",
   "nbconvert_exporter": "python",
   "pygments_lexer": "ipython3",
   "version": "3.13.5"
  }
 },
 "nbformat": 4,
 "nbformat_minor": 5
}
