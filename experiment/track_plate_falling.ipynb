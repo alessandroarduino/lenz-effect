{
 "cells": [
  {
   "cell_type": "markdown",
   "metadata": {},
   "source": [
    "# Measure the instantaneous angular velocity of rotating plate\n",
    "\n",
    "The measurement is performed by processing the recorded videos. The code\n",
    "to perform the measurement is developed and tested with reference to the\n",
    "first experimental repetition. The resulting code is then applied to all\n",
    "repetitions.\n",
    "\n",
    "## Import the packages and define utilities\n",
    "\n",
    "The packages are imported with the following role:\n",
    "\n",
    "-   `matplotlib`, scientific visualization\n",
    "-   `natsort`, ordering of the frames 'naturally' (i.e., recognizing\n",
    "    numbers in file names) instead of 'lexicographically'\n",
    "-   `numpy`, scientific computing\n",
    "-   `os`, interaction with the OS\n",
    "-   `pandas`, operations on tables and databases\n",
    "-   `plotly`, visualization of animations\n",
    "-   `skimage`, image manipulation of the recordings frame-by-frame"
   ],
   "id": "a5216afb-18cc-4de3-b4d0-7f39a6d86a05"
  },
  {
   "cell_type": "code",
   "execution_count": null,
   "metadata": {},
   "outputs": [],
   "source": [
    "import numpy as np\n",
    "import os\n",
    "import pandas as pd\n",
    "import skimage as ski\n",
    "\n",
    "from matplotlib import pyplot as plt, patches\n",
    "from natsort import natsorted\n",
    "from plotly import io as pio, express as pex, graph_objects as pgo\n"
   ],
   "id": "10c5563b-7615-4529-9635-665292cc8757"
  },
  {
   "cell_type": "markdown",
   "metadata": {},
   "source": [
    "Define a function to generate the animation associated to a sequence of\n",
    "images and save it in an HTML file."
   ],
   "id": "e167a488-b6c5-4464-a9f9-da41bbf704a1"
  },
  {
   "cell_type": "code",
   "execution_count": null,
   "metadata": {},
   "outputs": [],
   "source": [
    "def save_animation(address, image_sequence, bboxes=None, lines=None):\n",
    "    fig = pex.imshow(\n",
    "        image_sequence,\n",
    "        animation_frame=0,\n",
    "        binary_string=True,\n",
    "        labels={'animation frame': 'time point'}\n",
    "    )\n",
    "    if bboxes is not None:\n",
    "        if len(bboxes) == len(fig.frames):\n",
    "            for i, frame in enumerate(fig.frames):\n",
    "                frame.layout = pgo.Layout(\n",
    "                    shapes = [dict(\n",
    "                        type='rect',\n",
    "                        x0 = bboxes[i][1],\n",
    "                        y0 = bboxes[i][0],\n",
    "                        x1 = bboxes[i][3],\n",
    "                        y1 = bboxes[i][2],\n",
    "                        line = dict(color = 'Red')\n",
    "                    )]\n",
    "                )\n",
    "        else:\n",
    "            print('Number of boxes different from the number of frames. \\\n",
    "            Boxes not shown')\n",
    "    if lines is not None:\n",
    "        if len(lines) == len(fig.frames):\n",
    "            for i, frame in enumerate(fig.frames):\n",
    "                frame.layout = pgo.Layout(\n",
    "                    shapes = [dict(\n",
    "                        type='line',\n",
    "                        x0 = lines[i],\n",
    "                        y0 = 0,\n",
    "                        x1 = lines[i],\n",
    "                        y1 = 1,\n",
    "                        yref = 'paper',\n",
    "                        line = dict(color = 'Green')\n",
    "                    )\n",
    "                    ]\n",
    "                )\n",
    "    pio.write_html(fig, address)\n"
   ],
   "id": "b1a6e1ac-b6b9-46f7-bada-4b5c10bff431"
  },
  {
   "cell_type": "markdown",
   "metadata": {},
   "source": [
    "## Define the studied repetition\n",
    "\n",
    "Define the repetition that will be processed."
   ],
   "id": "07c78b74-5fd8-4343-8799-a01fe37763b6"
  },
  {
   "cell_type": "code",
   "execution_count": null,
   "metadata": {},
   "outputs": [],
   "source": [
    "experiment = 'repetition 1'\n"
   ],
   "id": "27ffce79-e49c-4efe-afee-3cc85543a728"
  },
  {
   "cell_type": "markdown",
   "metadata": {},
   "source": [
    "## Load the sequence of images\n",
    "\n",
    "Load all the frames of the recordings from a list of images named as\n",
    "incremental numbers."
   ],
   "id": "f3167214-2009-454e-a5d1-9dd74c275056"
  },
  {
   "cell_type": "code",
   "execution_count": null,
   "metadata": {},
   "outputs": [],
   "source": [
    "folder = os.path.join(experiment, 'motion')\n",
    "list_files = natsorted(os.listdir(folder))\n",
    "\n",
    "image_sequence = []\n",
    "for filename in list_files:\n",
    "    address = os.path.join(folder, filename)\n",
    "    frame = ski.io.imread(address, as_gray=True)\n",
    "    image_sequence.append(frame)\n",
    "image_sequence = np.array(image_sequence)\n",
    "\n",
    "animation_folder = os.path.join(experiment, 'animations')\n",
    "address = os.path.join(animation_folder, 'motion.html')\n",
    "save_animation(address, image_sequence)\n"
   ],
   "id": "5901b717-dc90-418d-b97c-9a21c4a381aa"
  },
  {
   "cell_type": "markdown",
   "metadata": {},
   "source": [
    "## Extract the coordinates of the fulcrum\n",
    "\n",
    "Starting from seed points selected by hand in the first frame, the\n",
    "region of contact between the plate and the ground is identified with a\n",
    "flood algorithm."
   ],
   "id": "48f37f27-7a13-4d74-bb9a-77e7d84f5fe7"
  },
  {
   "cell_type": "code",
   "execution_count": null,
   "metadata": {},
   "outputs": [],
   "source": [
    "if experiment == 'repetition 1':\n",
    "    seed_points = [(319, 813), (126, 808)]\n",
    "    tolerances = [0.1, 0.036]\n",
    "elif experiment == 'repetition 2':\n",
    "    seed_points = [(390, 815),]\n",
    "    tolerances = [0.06,]\n",
    "elif experiment == 'repetition 3':\n",
    "    seed_points = [(238, 810),]\n",
    "    tolerances = [0.05,]\n",
    "elif experiment == 'repetition 4':\n",
    "    seed_points = [(390, 815),]\n",
    "    tolerances = [0.05,]\n",
    "elif experiment == 'repetition 5':\n",
    "    seed_points = [(238, 810), (390, 815)]\n",
    "    tolerances = [0.04,0.06]\n",
    "\n",
    "image_fulcrum = np.zeros_like(image_sequence[0, ...])\n",
    "for seed_point, tolerance in zip(seed_points, tolerances):\n",
    "    image_fulcrum += ski.segmentation.flood(image_sequence[0, ...],\n",
    "                                           seed_point, tolerance=tolerance)\n",
    "\n",
    "indexes = np.argwhere(image_fulcrum)\n",
    "(y0, x0) = indexes.min(0)\n",
    "(y1, x1) = indexes.max(0) + 1\n",
    "\n",
    "plt.figure()\n",
    "plt.imshow(image_sequence[0, ...], cmap=plt.cm.Grays_r)\n",
    "plt.imshow(image_fulcrum, cmap=plt.cm.Reds, alpha=0.8)\n",
    "plt.gca().add_patch(patches.Rectangle((x0,y0), x1-x0, y1-y0,\n",
    "                                      facecolor='none', edgecolor='red'))\n",
    "plt.show()\n"
   ],
   "id": "0760af32-3064-4c56-bfb2-0eff4332609a"
  },
  {
   "cell_type": "markdown",
   "metadata": {},
   "source": [
    "The fulcrum should be a vertical line. We can use the found coordinates\n",
    "to rotate the images and correct the angle of acquisition."
   ],
   "id": "bd3df540-da8a-4835-9905-9686bd0c055b"
  },
  {
   "cell_type": "code",
   "execution_count": null,
   "metadata": {},
   "outputs": [],
   "source": [
    "angle = np.rad2deg(np.atan((x1-x0)/(y0-y1)))\n",
    "\n",
    "print('The camera angle is corrected by {:.1f}°'.format(angle))\n",
    "\n",
    "corrected_sequence = np.empty_like(image_sequence)\n",
    "for frame_index in range(image_sequence.shape[0]):\n",
    "    frame = image_sequence[frame_index, ...]\n",
    "    corrected_sequence[frame_index, ...] = ski.transform.rotate(frame, angle)\n",
    "\n",
    "address = os.path.join(animation_folder, 'corrected_motion.html')\n",
    "save_animation(address, corrected_sequence)\n"
   ],
   "id": "6b6d4eea-b35c-45bc-bc39-a83284413f1f"
  },
  {
   "cell_type": "markdown",
   "metadata": {},
   "source": [
    "Starting again from a seed point selected by hand in the first frame,\n",
    "the region of contact between the plate and the ground is identified\n",
    "again with a flood algorithm."
   ],
   "id": "74c7006a-4ce7-4195-86f4-391d336f13d7"
  },
  {
   "cell_type": "code",
   "execution_count": null,
   "metadata": {},
   "outputs": [],
   "source": [
    "if experiment == 'repetition 1':\n",
    "    seed_points = [(339, 815), (83, 818)]\n",
    "    tolerances = [0.08, 0.07]\n",
    "elif experiment == 'repetition 2' \\\n",
    "     or experiment == 'repetition 3' \\\n",
    "     or experiment == 'repetition 4' \\\n",
    "     or experiment == 'repetition 5':\n",
    "    seed_points = [(341, 815),]\n",
    "    tolerances = [0.08,]\n",
    "\n",
    "corrected_fulcrum = np.zeros_like(corrected_sequence[0, ...])\n",
    "for seed_point, tolerance in zip(seed_points, tolerances):\n",
    "    corrected_fulcrum += ski.segmentation.flood(corrected_sequence[0, ...],\n",
    "                                                seed_point, tolerance=tolerance)\n",
    "\n",
    "indexes = np.argwhere(corrected_fulcrum)\n",
    "(y0, x0) = indexes.min(0)\n",
    "(y1, x1) = indexes.max(0) + 1\n",
    "\n",
    "plt.figure()\n",
    "plt.imshow(corrected_sequence[0, ...], cmap=plt.cm.Grays_r)\n",
    "plt.imshow(corrected_fulcrum, cmap=plt.cm.Reds, alpha=0.8)\n",
    "plt.gca().add_patch(patches.Rectangle((x0,y0), x1-x0, y1-y0,\n",
    "                                      facecolor='none', edgecolor='red'))\n",
    "plt.show()\n"
   ],
   "id": "0dc3bb58-3e19-4810-8d9b-8921c2bfe38f"
  },
  {
   "cell_type": "markdown",
   "metadata": {},
   "source": [
    "The fulcrum coordinate is well estimated as the average x-coordinate of\n",
    "the box and half box side provides its uncertainty."
   ],
   "id": "2f7581d2-bb61-473a-8fce-b6c8273bbb8e"
  },
  {
   "cell_type": "code",
   "execution_count": null,
   "metadata": {},
   "outputs": [],
   "source": [
    "fulcrum_x = (x0 + x1) / 2\n",
    "fulcrum_x_unc = np.abs(x0 - x1) / 2\n",
    "\n",
    "print(f'Fulcrum coordinate is {fulcrum_x} px +- {fulcrum_x_unc} px')\n"
   ],
   "id": "6d5db7ab-5962-43b0-8e7b-0f2864bc5604"
  },
  {
   "cell_type": "markdown",
   "metadata": {},
   "source": [
    "## Extract the height of the plate in each frame\n",
    "\n",
    "To estimate the apparent height of the plate in each frame, we must\n",
    "identify the coordinate of its upper edge (on the left in the images).\n",
    "\n",
    "### Compute the image deltas\n",
    "\n",
    "Image deltas allow to detect only what changed from one frame to\n",
    "another. The deltas are saturated at the first percentile of the frame\n",
    "in order to remove the acquisition noise."
   ],
   "id": "7b8fbdf5-516e-4f13-8b83-139f50dc04f2"
  },
  {
   "cell_type": "code",
   "execution_count": null,
   "metadata": {},
   "outputs": [],
   "source": [
    "image_deltas = corrected_sequence[1:, ...] - corrected_sequence[:-1, ...]\n",
    "\n",
    "half_pixels = image_deltas.shape[1] * image_deltas.shape[2] / 2.0\n",
    "binarized = np.empty(image_deltas.shape, dtype=bool)\n",
    "for frame_index in range(image_deltas.shape[0]):\n",
    "    frame = image_deltas[frame_index, ...]\n",
    "    threshold = np.percentile(image_deltas[frame_index, ...], 1)\n",
    "    binarized[frame_index, ...] = frame < threshold\n",
    "    if np.count_nonzero(binarized[frame_index, ...]) > half_pixels:\n",
    "        binarized[frame_index, ...] = np.logical_not(binarized[frame_index, ...])\n",
    "\n",
    "address = os.path.join(animation_folder, 'deltas.html')\n",
    "save_animation(address, binarized)\n"
   ],
   "id": "bca7ff68-f175-4c4a-aa79-0915dd141f74"
  },
  {
   "cell_type": "markdown",
   "metadata": {},
   "source": [
    "### Select the bounding box of the change due to the moving edge\n",
    "\n",
    "The moving edge covers an area that is identified by looking for the\n",
    "largest connected region in each image delta."
   ],
   "id": "5a91375a-2aca-4a7d-88f7-bec6b7fba478"
  },
  {
   "cell_type": "code",
   "execution_count": null,
   "metadata": {},
   "outputs": [],
   "source": [
    "largest_regions = np.zeros_like(binarized)\n",
    "bboxes = []\n",
    "for frame_index in range(binarized.shape[0]):\n",
    "    frame = binarized[frame_index, ...]\n",
    "    labels = ski.measure.label(frame)\n",
    "    regionprops = ski.measure.regionprops_table(labels, properties=('label',\n",
    "                                                                    'area',\n",
    "                                                                    'bbox'))\n",
    "    regionprops = pd.DataFrame(regionprops)\n",
    "    if not regionprops.empty:\n",
    "        regionprops.sort_values('area', ascending=False, inplace=True)\n",
    "        largest_regions[frame_index, ...] = labels == regionprops.iloc[0]['label']\n",
    "        bboxes.append([regionprops.iloc[0][f'bbox-{i}'] for i in range(4)])\n",
    "    else:\n",
    "        bboxes.append([0, 0, 0, 0])\n",
    "\n",
    "grayscale_selection = largest_regions.astype(float) + binarized.astype(float)\n",
    "address = os.path.join(animation_folder, 'largest_areas.html')\n",
    "save_animation(address, grayscale_selection, bboxes=bboxes)\n"
   ],
   "id": "9c4412dd-d77d-4e52-a9cd-d9ae3c2d1f46"
  },
  {
   "cell_type": "markdown",
   "metadata": {},
   "source": [
    "### Check the obtained guess of the upper edge locations\n",
    "\n",
    "In each interval between two frames, the bounding box of the largest\n",
    "connected area is extended from the position of the edge at the\n",
    "beginning of the time interval to the position at the end of the time\n",
    "interval."
   ],
   "id": "3b32be34-640e-4e56-8058-32836ed4b808"
  },
  {
   "cell_type": "code",
   "execution_count": null,
   "metadata": {},
   "outputs": [],
   "source": [
    "edges_l = np.array([bboxes[i][1] for i in range(len(bboxes))])\n",
    "edges_r = np.array([bboxes[i][3] for i in range(len(bboxes))])\n",
    "\n",
    "edges = np.zeros((corrected_sequence.shape[0],))\n",
    "edges[:-1] = edges_l\n",
    "edges[1:] += edges_r\n",
    "edges[1:-1] /= 2.0\n",
    "\n",
    "address = os.path.join(animation_folder, 'edges_first_guess.html')\n",
    "save_animation(address, corrected_sequence, lines=edges)\n"
   ],
   "id": "1414244b-3c86-4dce-a37e-a8d0ec7391e8"
  },
  {
   "cell_type": "markdown",
   "metadata": {},
   "source": [
    "### Correct the edge locations in the frames where the automatic method failed\n",
    "\n",
    "For repetition 1, the upper edge is located wrongly in first two frames.\n",
    "A small imperfection can also be recognized in the last four frames.\n",
    "These 6 values are corrected by hand, looking from a reasonable\n",
    "locations in the images.\n",
    "\n",
    "This correction is repeated by hand for each repetition."
   ],
   "id": "63d1ac84-3082-4a22-92f5-b796c7ddd1ff"
  },
  {
   "cell_type": "code",
   "execution_count": null,
   "metadata": {},
   "outputs": [],
   "source": [
    "if experiment == 'repetition 1':\n",
    "    edges[0] = 120\n",
    "    edges[1] = 132\n",
    "    edges[-4] = 816\n",
    "    edges[-3] = 834\n",
    "    edges[-2] = 852\n",
    "    edges[-1] = 870\n",
    "elif experiment == 'repetition 2':\n",
    "    edges[0] = 120\n",
    "    edges[1] = 126\n",
    "    edges[-4] = 827\n",
    "    edges[-3] = 845\n",
    "    edges[-2] = 863\n",
    "    edges[-1] = 878\n",
    "elif experiment == 'repetition 3':\n",
    "    edges[-7] = 772\n",
    "    edges[-6] = 790\n",
    "    edges[-5] = 807\n",
    "    edges[-4] = 825\n",
    "    edges[-3] = 844\n",
    "    edges[-2] = 861\n",
    "    edges[-1] = 877\n",
    "elif experiment == 'repetition 4':\n",
    "    edges[0] = 120\n",
    "    edges[1] = 132\n",
    "    edges[-3] = 832\n",
    "    edges[-2] = 850\n",
    "    edges[-1] = 868\n",
    "elif experiment == 'repetition 5':\n",
    "    edges[0] = 119\n",
    "    edges[1] = 127\n",
    "    edges[-4] = 826\n",
    "    edges[-3] = 844\n",
    "    edges[-2] = 862\n",
    "\n",
    "address = os.path.join(animation_folder, 'edges_final_guess.html')\n",
    "save_animation(address, corrected_sequence, lines=edges)\n"
   ],
   "id": "44dec7a5-9fce-435b-a54d-43ec8d7c5746"
  },
  {
   "cell_type": "markdown",
   "metadata": {},
   "source": [
    "## Transform the extracted fulcrum and edge locations in angles\n",
    "\n",
    "This transformation is based on the assumption that the observer's eye\n",
    "performs a projection of the 3D objects in front of him on a 2D plane.\n",
    "The image captured by the camera is the result of this projection.\n",
    "\n",
    "Let us consider the setup represented in the following diagram:\n",
    "\n",
    "![](attachment:diagram.png)\n",
    "\n",
    "According to it, when the plate is fallen of an angle $\\vartheta$, its\n",
    "height in the picture is $s(\\vartheta)$ instead of $L$. In a reference\n",
    "system with origin in the fulcrum, we have the tip of the plate in\n",
    "$L*(-\\sin(\\vartheta), \\cos(\\vartheta))$ and the observed at $(-D, L)$.\n",
    "The line connecting these two points is\n",
    "$$y - L = \\frac{L \\cos(\\vartheta) - L}{-L \\sin(\\vartheta) + D} (x + D)\\,,$$\n",
    "that in $x = 0$ leads to\n",
    "$$s(\\vartheta) = \\frac{L \\cos(\\vartheta) - L}{-L \\sin(\\vartheta) + D} D + L\\,.$$\n",
    "Moreover, it is worth noting that $s(0) = L$, so that $L$ can be\n",
    "estimated in the pixel unit of the recording as the length of the plate\n",
    "in the first frame. If the initial angle $\\vartheta_0$ is small but\n",
    "different from $0$, we can write the approximated equation\n",
    "$s(\\vartheta_0) = L \\cos(\\vartheta_0)$, from which $L$ is estimated.\n",
    "\n",
    "The length of the plate in the last frame (which is negative with\n",
    "respect to the location of the fulcrum) provides an information\n",
    "regarding $D$. Precisely, in the last frame the plate is completely\n",
    "fallen, so $\\vartheta = 90°$, and\n",
    "$$s(90°) = \\frac{-L}{D - L} D + L = L \\left( 1 + \\frac{D}{L - D} \\right)\\,.$$\n",
    "By inverting the latter equation, we get the expression\n",
    "$$d = L \\frac{s(90°) - L}{s(90°)}$$\n",
    "\n",
    "Going back to the starting equation, for any $\\vartheta$, we have\n",
    "$$\\frac{s(\\vartheta)}{L} - 1 = \\frac{\\cos(\\vartheta) - 1}{D - \\sin(\\vartheta) L} D\\,,$$\n",
    "that must be inverted with respect to $\\vartheta$, for example using a\n",
    "look-up table."
   ],
   "attachments": {
    "diagram.png": {
     "image/png": "[encoded data removed]"
    }
   },
   "id": "8761ead2-444e-4894-8c53-cbe3704968a4"
  },
  {
   "cell_type": "code",
   "execution_count": null,
   "metadata": {},
   "outputs": [],
   "source": [
    "theta_0 = np.deg2rad(3.0)\n",
    "\n",
    "s = fulcrum_x - edges\n",
    "L = s[0] / np.cos(theta_0)\n",
    "d = L * (s[-1] - L) / s[-1]\n",
    "\n",
    "print('L = {:.2f} px, D = {:.2f} px'.format(L, d))\n"
   ],
   "id": "5c979c17-a862-405d-bd42-e517d90c3822"
  },
  {
   "cell_type": "markdown",
   "metadata": {},
   "source": [
    "The output is stored in a CSV file providing the trend in time of the\n",
    "angle of the falling plate."
   ],
   "id": "a972daf9-0ea9-4b74-b3eb-bc85dbce5b54"
  },
  {
   "cell_type": "code",
   "execution_count": null,
   "metadata": {},
   "outputs": [],
   "source": [
    "theta_p = np.linspace(0, np.deg2rad(90), 91)\n",
    "theta_p = theta_p[::-1]\n",
    "s_p = L * (d * (np.cos(theta_p) - 1) / (d - np.sin(theta_p) * L) + 1)\n",
    "\n",
    "theta = np.interp(s, s_p, theta_p)\n",
    "\n",
    "times = np.arange(corrected_sequence.shape[0]) / 1.0\n",
    "\n",
    "plt.figure()\n",
    "plt.plot(times, np.rad2deg(theta))\n",
    "plt.grid()\n",
    "plt.xlabel(\"Time (s)\")\n",
    "plt.ylabel(\"Angle (deg)\")\n",
    "plt.title(f\"Trajectory of the falling plate - {experiment}\")\n",
    "plt.show()\n",
    "\n",
    "address = os.path.join(experiment, 'trajectory.csv')\n",
    "with open(address, 'w') as ofile:\n",
    "    ofile.write('#time(s),angle(deg)\\n')\n",
    "    for i in range(len(theta)):\n",
    "        x = times[i]\n",
    "        y = np.rad2deg(theta[i])\n",
    "        ofile.write(f'{x},{y}\\n')\n"
   ],
   "id": "4e797877-8ffe-4e7b-9729-cc4d4ee6a544"
  }
 ],
 "nbformat": 4,
 "nbformat_minor": 5,
 "metadata": {}
}
